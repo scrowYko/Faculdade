{
 "cells": [
  {
   "cell_type": "markdown",
   "id": "fdfa0202",
   "metadata": {},
   "source": [
    "# 1 - Converta a seguinte expressão matemática para Python: "
   ]
  },
  {
   "cell_type": "code",
   "execution_count": 30,
   "id": "bb152faf",
   "metadata": {},
   "outputs": [
    {
     "name": "stdout",
     "output_type": "stream",
     "text": [
      "5.206896551724138\n"
     ]
    }
   ],
   "source": [
    "print((5 * (10-4)**2)/(3**3 + 2) - 1)"
   ]
  },
  {
   "cell_type": "markdown",
   "id": "1d8186b0",
   "metadata": {},
   "source": [
    "# 2 - Calcule a distância entre os pontos utilizando a fórmula: d = √(x2 - x1)² + (y2 - y1)²"
   ]
  },
  {
   "cell_type": "code",
   "execution_count": 31,
   "id": "93e2698f",
   "metadata": {},
   "outputs": [
    {
     "data": {
      "text/plain": [
       "10.0"
      ]
     },
     "execution_count": 31,
     "metadata": {},
     "output_type": "execute_result"
    }
   ],
   "source": [
    "((8 - 2)**2 + (11 - 3)**2)**0.5"
   ]
  },
  {
   "cell_type": "markdown",
   "id": "89aabb41",
   "metadata": {},
   "source": [
    "# Calcule a média ponderada com base nas notas e pesos:\n",
    "### Prova 1: Nota 7.0 (Peso 3) \n",
    "### Prova 2: Nota 8.5 (Peso 5)\n",
    "### Prova 3: Nota 6.0 (Peso 2)"
   ]
  },
  {
   "cell_type": "code",
   "execution_count": 32,
   "id": "050700d9",
   "metadata": {},
   "outputs": [
    {
     "name": "stdout",
     "output_type": "stream",
     "text": [
      "7.55\n"
     ]
    }
   ],
   "source": [
    "n1 = 7\n",
    "n2 = 8.5\n",
    "n3 = 6\n",
    "p1 = 3\n",
    "p2 = 5\n",
    "p3 = 2\n",
    "mf = (n1 * p1 + n2 * p2 + n3 * p3)/(p1 + p2 + p3)\n",
    "print(mf)"
   ]
  }
 ],
 "metadata": {
  "kernelspec": {
   "display_name": "Python 3",
   "language": "python",
   "name": "python3"
  },
  "language_info": {
   "codemirror_mode": {
    "name": "ipython",
    "version": 3
   },
   "file_extension": ".py",
   "mimetype": "text/x-python",
   "name": "python",
   "nbconvert_exporter": "python",
   "pygments_lexer": "ipython3",
   "version": "3.12.8"
  }
 },
 "nbformat": 4,
 "nbformat_minor": 5
}
